{
 "cells": [
  {
   "cell_type": "code",
   "execution_count": 1,
   "metadata": {},
   "outputs": [],
   "source": [
    "import os\n",
    "import torch\n",
    "os.environ[\"CUDA_VISIBLE_DEVICES\"] = \"2\" "
   ]
  },
  {
   "cell_type": "code",
   "execution_count": null,
   "metadata": {},
   "outputs": [
    {
     "name": "stderr",
     "output_type": "stream",
     "text": [
      "/home/user/anaconda3/envs/hjkim/lib/python3.10/site-packages/tqdm/auto.py:21: TqdmWarning: IProgress not found. Please update jupyter and ipywidgets. See https://ipywidgets.readthedocs.io/en/stable/user_install.html\n",
      "  from .autonotebook import tqdm as notebook_tqdm\n",
      "Downloading shards: 100%|██████████| 5/5 [45:09<00:00, 541.88s/it]\n",
      "Loading checkpoint shards: 100%|██████████| 5/5 [00:07<00:00,  1.42s/it]\n"
     ]
    }
   ],
   "source": [
    "from transformers import AutoModelForCausalLM, AutoTokenizer\n",
    "\n",
    "model_name = \"meta-llama/Llama-3.1-8B-Instruct\"\n",
    "\n",
    "model = AutoModelForCausalLM.from_pretrained(\n",
    "    model_name,\n",
    "    torch_dtype=\"auto\",\n",
    "    device_map=\"auto\"\n",
    ")\n",
    "tokenizer = AutoTokenizer.from_pretrained(model_name)"
   ]
  },
  {
   "cell_type": "code",
   "execution_count": 3,
   "metadata": {},
   "outputs": [],
   "source": [
    "#일반 상식 객관식 문항\n",
    "choice = [\n",
    "    \"세계에서 가장 큰 섬은 무엇인가요? A. 그린란드 B. 뉴기니 C. 마다가스카르\",\n",
    "    \"지구의 가장 큰 대양은 무엇인가요? A. 대서양 B. 인도양 C. 태평양\",\n",
    "    \"에펠탑이 위치한 도시는 어디인가요? A. 런던 B. 파리 C. 로마\",\n",
    "    \"피타고라스 정리는 어느 학문과 관련이 있나요? A. 물리학 B. 화학 C. 수학\",\n",
    "    \"인류 최초로 달에 착륙한 우주인은 누구인가요? A. 유리 가가린 B. 닐 암스트롱 C. 버즈 올드린\",\n",
    "    \"미국의 독립기념일은 언제인가요? A. 7월 4일 B. 6월 4일 C. 5월 4일\",\n",
    "    \"DNA의 구조를 밝혀낸 과학자 두 사람은 누구인가요? A. 뉴턴과 아인스타인 B. 왓슨과 크릭 C. 퀴리 부부\",\n",
    "    \"세계에서 가장 높은 산은 무엇인가요? A. 킬리만자로 B. 에베레스트 C. 안데스\",\n",
    "    \"세계에서 인구가 가장 많은 나라는 어디인가요? (2021년 기준) A. 인도 B. 미국 C. 중국\",\n",
    "    \"고대 이집트의 상형문자는 무엇이라고 불리나요? A. 라틴어 B. 히브리어 C. 히에로글리프\",\n",
    "    \"피카소는 어느 예술 운동과 가장 관련이 깊나요? A. 인상주의 B. 초현실주의 C. 입체파\",\n",
    "    \"태양계의 여덟 행성 중에서 가장 큰 행성은 무엇인가요? A. 해왕성 B. 목성 C. 토성\",\n",
    "    \"인도의 수도는 어디인가요? A. 뭄바이 B. 뉴델리 C. 방갈로르\",\n",
    "    \"바흐, 베토벤, 모차르트 중 바로크 시대에 활동한 음악가는 누구인가요? A. 바흐 B. 베토벤 C. 모차르트\",\n",
    "    \"로마 제국의 첫 번째 황제는 누구인가요? A. 줄리어스 시저 B. 아우구스투스 C. 네로\",\n",
    "    \"북극과 남극 중 펭귄이 사는 곳은 어디인가요? A. 북극 B. 남극 C. 둘 다\",\n",
    "    \"전구를 발명한 사람은 누구인가요? A. 토머스 에디슨 B. 알렉산더 그레이엄 벨 C. 니콜라 테슬라\",\n",
    "    \"'모나리자'를 그린 화가는 누구인가요? A. 빈센트 반 고흐 B. 클로드 모네 C. 레오나르도 다빈치\",\n",
    "    \"세계에서 가장 작은 대륙은 무엇인가요? A. 아시아 B. 유럽 C. 오스트레일리아\",\n",
    "    \"빅토리아 폭포는 어느 두 나라의 경계에 있나요? A. 미국과 캐나다 B. 잠비아와 짐바브웨 C. 프랑스와 스위스\"\n",
    "]\n"
   ]
  },
  {
   "cell_type": "code",
   "execution_count": 4,
   "metadata": {},
   "outputs": [],
   "source": [
    "#심화 상식 주관식 문항\n",
    "subjective = [\n",
    "    \"6.25전쟁이 일어난 지 몇 주년이 됐어? 현재는 2024년이야.\",\n",
    "    \"로버트 오펜하이머가 이끈 프로젝트로, 제2차 세계 대전 중 원자폭탄을 개발한 프로젝트의 이름은 무엇인가요?\",\n",
    "    \"고대 그리스의 수학자 아르키메데스가 목욕을 하다가 발견한 원리로 유명한 법칙은 무엇인가요?\",\n",
    "    \"애플의 창시자의 이름이랑 나이 알려줘 올해는 2024년이야\",\n",
    "    \"만약 두 배의 수익률로 투자한 1,000원이 5년 후에 32,000원이 되었다면, 이 투자에서의 연평균 수익률(%)은 얼마인가요?\",\n",
    "    \"대한민국의 교육제도에 따라 초등학교는 6년, 중학교는 3년, 고등학교는 3년입니다. 2024년에 초등학교에 입학한 학생은 고등학교를 졸업하는 해는 몇 년인가요?\",\n",
    "    \"주어진 문자열 'OpenAI'의 각 문자를 알파벳 순서대로 재배열하면 무엇이 되나요?\",\n",
    "    \"양자 컴퓨팅(Quantum Computing)에서 큐비트(Qubit)가 전통적인 비트(Bit)와 다른 점으로 옳지 않은 것은 무엇인가? a) 큐비트는 0과 1의 상태를 동시에 가질 수 있다. b) 큐비트는 얽힘(Entanglement)을 통해 여러 큐비트가 서로 영향을 주고받을 수 있다. c) 큐비트는 항상 0과 1 중 하나의 상태만 가질 수 있다. d) 큐비트는 중첩(Superposition) 상태를 통해 병렬 연산이 가능하다.\",\n",
    "    \"문자열 'abracadabra'에서 'a'가 나타나는 위치의 합은 얼마인가요?\",\n",
    "    \"다섯 명의 친구들이 A, B, C, D, E라고 할 때, 그들은 모두 서로 다른 도시에 살고 있습니다. 그들이 사는 도시는 각각 서울, 부산, 대구, 인천, 광주입니다. 다음 조건을 만족할 때, 각 친구가 어느 도시에 사는지 맞추세요. - A는 서울이나 부산에 살지 않습니다. - C는 인천에 살고 있습니다. - D는 대구에 살지 않습니다. - E는 광주에 살고 있습니다. - B는 서울에 살고 있지 않습니다.\",\n",
    "    \"다음 수열에서 다음에 올 숫자는 무엇인가요? 2, 6, 12, 20, 30, ...\",\n",
    "    \"두 가지 이상의 수단을 결합시켜 각 수단이 가져올 효과의 산술적인 합계보다 더 큰 효과를 얻는 것을 일컫는 말은?\",\n",
    "    \"미터법으로는 1단위에 약 159L에 해당하며 석유를 운반하는데 사용된 통나무에 어원을 두고있는 석유용량을 나타내는 단위는?\",\n",
    "    \"? 안에 들어갈 값을 구하시오. 4, 9, 17, 35, 69, ? , 277\",\n",
    "    \"동물원의 한 우리에 북극곰과 펭귄이 전부 14마리 있다. 이들의 총 다리 수를 세어보니 모두 44개였다고 한다. 이때 펭귄은 총 몇 마리인지 구하시오\",\n",
    "    \"1. 지훈은 A, B, C 세 과목 중에서 수강신청을 준비하고 있습니다. 수강신청을 위해 지훈이 충족해야 하는 조건은 다음과 같습니다: 1. A를 수강하면 C를 수강하지 않습니다. 2. B를 수강하면 A를 반드시 수강합니다. 3. C를 수강하지 않으면 B를 수강합니다. 이 조건들을 바탕으로 지훈이 반드시 수강해야 하는 과목을 결정하세요\",\n",
    "    \"가상 화폐 거래내역을 기록하는 장부로 신용이 필요한 온라인 거래에서 해킹을 막기 위한 기술로 사용되며 “공공거래장부”라고도 불리는 “이것”은 무엇인가.\",\n",
    "    \"경제 성장이 멈추어 이용가능한 자원이나 사회적 부의 총량이 일정해져서 한가지 문제를 해결하려고 하면 반드시 다른 이해와 충돌이 일어나는 사회를 “이것” 사회라고 하는데, “이것”은 어떤 시스템이나 사회 전체의 이익이 일정하여 한쪽이 득을 보면 반드시 다른 한쪽이 손해를 보는 상태를 말한다. 이것은 무엇인가?\",\n",
    "    \"야구에서 노아웃, 또는 원아웃에서 주자기 1,2루 혹은 만루에 있을 때, 타자가 친 타구가 내야에 뜬공이 된 경우, 야수가 충분히 잡을 수 있다고 판단되면 주심이 재량을 발휘하여 아웃을 선언하여, 수비중인 팀이 고의로 공을 떨어뜨려 병살 등을 만드는 것을 방지하기 위한 조치를 무엇이라고 하는가?\",\n",
    "    \"다음 ?에 들어갈 값은 무엇인가? 3+2=7 5+4=23 7+6=47 9+8=79 10+9=?\"\n",
    "]"
   ]
  },
  {
   "cell_type": "code",
   "execution_count": 5,
   "metadata": {},
   "outputs": [],
   "source": [
    "#사칙연산능력 문항\n",
    "calculation= [\n",
    "    \"직사각형의 가로와 세로 길이 비가 14 : 9 이고 둘레 길이가 46일 때 세로의 길이를 구하시오. a. 10 b. 9 c. 8 d. 7\",\n",
    "    \"12%의 소금물에 100g의 물을 넣었더니 6% 소금물이 되었다. 원래 12% 소금물의 양(g)을 구하시오. a. 80 b. 90 c. 100 d. 110\",\n",
    "    \"연속하는 세 짝수의 합이 48이라고 할 때 이 중 가장 작은 짝수를 구하시오. \",\n",
    "    \"현재 아빠와 딸의 나이의 합은 43이고, 16년 후 아빠의 나이는 딸의 나이의 2배가 된다. 현재 딸의 나이를 구하시오. a. 9 b. 12 c. 18 d. 16\",\n",
    "    \"92, 46, 322 세 자연수의 최대공약수를 구하시오.\",\n",
    "    \"다음 일차방정식의 해를 구하세요. -2*(5*x -2) : -9 = -3*(-2*x + 2) : -9\",\n",
    "    \"x=2, y=1 일때 -3*x + 3*y의 값을 구하시오. a. 3 b. -3 c. 1 d. -1\",\n",
    "    \"원의 둘레가 8π라고 할 때 원의 지름을 구하시오.\",\n",
    "    \"원의 넓이가 36π라고 할 때 원의 반지름을 구하시오.\",\n",
    "    \"원기둥의 밑면의 반지름이 6, 기둥의 높이가 3이라고 할 때 원기둥의 부피를 구하시오. a. 432π b. 108π c. 96π d. 128π\",\n",
    "    \"한 개의 1kg 물체가 10 m/s의 속도로 이동하고 있습니다. 이 물체의 운동 에너지는 얼마인가요?\",\n",
    "    \"x^2 - 5x + 6 = 0의 두 해를 구하세요.\",\n",
    "    \"1000 이하의 자연수 중 3의 배수이면서 5의 배수가 아닌 숫자의 총 개수는 몇 개인가요?\",\n",
    "    \"가로 7칸, 세로 7칸으로 된 격자 미로가 있다. 왼쪽 위에서 오른쪽 아래로 이동하는 경로의 수는 몇 가지인가요? 단, 오른쪽 또는 아래로만 이동할 수 있습니다.\",\n",
    "    \"주사위 두 개를 던질 때, 두 주사위의 눈금의 합이 7이거나 11이 될 확률은 얼마인가요?\",\n",
    "    \"두 수의 최대공약수가 12이고, 최소공배수가 240일 때, 이 두 수의 곱은 얼마인가요?\",\n",
    "    \"삼각형의 세 변의 길이가 각각 3, 4, 5일 때, 이 삼각형의 넓이는 무엇인가요?\",\n",
    "    \"벡터 a=(2,3)와 b=(−1,4) 의 내적은 무엇인가요?\",\n",
    "    \"이차함수 y=−x^2+4x−3의 꼭지점의 좌표는 무엇인가요?\",\n",
    "    \"삼각형의 두 변의 길이가 각각 5cm, 12cm이고, 그 사이의 각이 90도일 때, 삼각형의 넓이는 몇 cm²인가요?\"\n",
    "    \n",
    "]"
   ]
  },
  {
   "cell_type": "code",
   "execution_count": 6,
   "metadata": {},
   "outputs": [
    {
     "name": "stderr",
     "output_type": "stream",
     "text": [
      "Setting `pad_token_id` to `eos_token_id`:None for open-end generation.\n",
      "Setting `pad_token_id` to `eos_token_id`:None for open-end generation.\n"
     ]
    },
    {
     "name": "stdout",
     "output_type": "stream",
     "text": [
      "1.  A. 그린란드\n",
      "\n",
      "그린란드는 세계에서 가장 큰 섬입니다. 면적은 약 2,166,086km²로, 러시아의 사하 공화국에 속한 노바야 Земly아와 함께 단 2장밖에 없는 100만 평방km 이상의 면적을 자랑하는 섬입니다. 그린란드는 북극해에 위치해 있습니다. 제2의 큰 섬은 인도의 서쪽 인도양에 있는 섬인데, 면적이 328,726km²인 마다가스카르 섬입니다. 단독 국적으로서 세계에서 25번째로 큰 나라인 뉴기니섬은 세계에서 2번째로 큰 섬이기는 하나, 이 섬은 인접한 파푸아뉴기니와 인도네시아의 영토로 나뉘어 있습니다.\n",
      "\n",
      "[출처]\n",
      "\n",
      "\n"
     ]
    },
    {
     "name": "stderr",
     "output_type": "stream",
     "text": [
      "Setting `pad_token_id` to `eos_token_id`:None for open-end generation.\n"
     ]
    },
    {
     "name": "stdout",
     "output_type": "stream",
     "text": [
      "2.  제어: C. 태평양이 지구 최대의 대양입니다. 태평양은 면적 약 165,250,000 km2로 지구의 전체 육지 면적보다 좀 더 클 정도로 rất 광활합니다. 두 번째로 큰 대양은 인도양으로, 면적은 약 70,560,000 km2입니다. 대서양은 세 번째로 면적 약 41,100,000 km2 정도 됩니다.\n",
      "\n",
      "\n"
     ]
    },
    {
     "name": "stderr",
     "output_type": "stream",
     "text": [
      "Setting `pad_token_id` to `eos_token_id`:None for open-end generation.\n"
     ]
    },
    {
     "name": "stdout",
     "output_type": "stream",
     "text": [
      "3.  에펠탑이 위치한 도시는 B. 파리입니다. 에펠탑은 1889년 Paris World's Fair(파리 만국박람회) 때 축하하기 위해 세워진 파리 중심부에서 가장 대표적인 랜드마크로, 높이가 324m이며 파리에서 가장 유명한 관광지 중 하나입니다.\n",
      "\n",
      "\n"
     ]
    },
    {
     "name": "stderr",
     "output_type": "stream",
     "text": [
      "Setting `pad_token_id` to `eos_token_id`:None for open-end generation.\n"
     ]
    },
    {
     "name": "stdout",
     "output_type": "stream",
     "text": [
      "4.  D. 수학과 관련이 있습니다.\n",
      "\n",
      "피타고라스 정리는 평면에 위치한 직각 삼각형의 성질로, 직각삼각형 내의 세 변 중 두 변의 제곱의 합이 나머지 한 변의 제곱과 같다는 것입니다. \n",
      "\n",
      "이를 수학적으로 다음과 같이 표현할 수 있습니다:\n",
      "a² + b² = c²\n",
      "( où a와 b는 직각삼각형의 두 변, c는 대꼭짓각의 변 또는 사변량의 변 )\n",
      "\n",
      "이 정리는 수학의 한 가지 기본적인 정리이며, 기하학을 포함하여 다양한 수학분야에 응용됩니다. 물리학, 전자공학, 사운드, 최단거리 문제 등에서도 응용됩니다. 하지만 피타고라스 정리는 수학 원리 그 자체라고 볼 수 있으며, 수학과 가장 직접적인 관련이 있는 정리로 볼 수 있습니다.\n",
      "\n",
      "\n"
     ]
    },
    {
     "name": "stderr",
     "output_type": "stream",
     "text": [
      "Setting `pad_token_id` to `eos_token_id`:None for open-end generation.\n"
     ]
    },
    {
     "name": "stdout",
     "output_type": "stream",
     "text": [
      "5.  B. 닐 암스트롱\n",
      "\n",
      "인류 최초로 달에 착륙한 사람은 닐 암스트롱(Neil Armstrong)이다. 1969년 7월 20일 아폴로 11호로 달에 착륙한 암스트롱은 그 유명한 \"한 발짝 인간史上 거창한 한 단\"이란 말을 남겼다. 그의 후임으로 달에 내린 버즈 올드린(BUZZ Aldrin)이 두 번째 사람으로 달 표면에 발을 디딘 최초의 인물이다. 유리의 경우, 최초의 여성 우주왕복선 조종사로서 명성이 높다.\n",
      "\n",
      "\n"
     ]
    },
    {
     "name": "stderr",
     "output_type": "stream",
     "text": [
      "Setting `pad_token_id` to `eos_token_id`:None for open-end generation.\n"
     ]
    },
    {
     "name": "stdout",
     "output_type": "stream",
     "text": [
      "6.  A. 7월 4일\n",
      "\n",
      "미국의 독립기념일은 7월 4일로, 독립선언서가 승인된 날이다. 1776년 7월 4일에 있었던 서명식이 미국의 독립기념일로 지정되었다. 이 날을 기려 매년 7월 4일은 federal holiday로 지정되어 미국 전역에서 기념행사가 펼쳐진다.\n",
      "\n",
      "\n"
     ]
    },
    {
     "name": "stderr",
     "output_type": "stream",
     "text": [
      "Setting `pad_token_id` to `eos_token_id`:None for open-end generation.\n"
     ]
    },
    {
     "name": "stdout",
     "output_type": "stream",
     "text": [
      "7.  B. 왓슨과 크릭\n",
      "\n",
      " Watson과 크릭(Franklin)은 DNA의 이중나선 구조를 밝혀낸 과학자들로 잘 알려져 있습니다. 1952년, 로즈린 프랭킨이 DNA의 X-선 회절 사진을 찍었고, 1953년에 제임스 왓슨과 프랜시스 크릭이 이 데이터를 근거로 DNA 구조를 분석, 이중나선 구조설을 제기했습니다. 이후, 또다른 과학자 모리스 윌킨스와 린젤이 이 결과를 Experimental Nature에 게재하며 유력하게 만들었습니다. 이 연구 결과로 왓슨, 크릭, 윌킨스, 린젤은 1962년 노벨 생리의학상을 수상했습니다. 로즈린 프랭클린은 노벨상을 받지 못했으며, 안타깝게도 1958년 31세의 젊은 나이에 노원병으로 사망했습니다.\n",
      "뉴턴과 아인슈타인은 물리학, 특히 근대 과학의 발전에 큰 공헌을 한 인물들로 잘 알려진 반면, 퀴리 부부는 방사능의 발견으로 유명한데, DNA 구조와 직접적인 관련은 없기에 해당이 안 됩니다.\n",
      "\n",
      "\n"
     ]
    },
    {
     "name": "stderr",
     "output_type": "stream",
     "text": [
      "Setting `pad_token_id` to `eos_token_id`:None for open-end generation.\n"
     ]
    },
    {
     "name": "stdout",
     "output_type": "stream",
     "text": [
      "8.  세계에서 가장 높은 산은 B. 에베레스트(8,848m)입니다. 에베레스트는 히말라야 산맥에 위치해 있으며, 네팔과 중국 티벳 자치구 지역의 국경을 이erts. 2위인 K2(8,611m)와 3위인 킬리만자로(5,895m)보다는 높습니다.\n",
      "\n",
      "\n"
     ]
    },
    {
     "name": "stderr",
     "output_type": "stream",
     "text": [
      "Setting `pad_token_id` to `eos_token_id`:None for open-end generation.\n"
     ]
    },
    {
     "name": "stdout",
     "output_type": "stream",
     "text": [
      "9.  2021년 기준 가장 인구가 많은 나라는 중국입니다. 중국은 2021년 기준으로 14억여 명으로 전 세계 인구의 약 17.7%를 차지하고 있습니다. 중국은 지난 19세기에 인도가 인구 1위였던 시절부터 인구 1위국이 된 이래로 현재까지 그 위치를 유지하고 있습니다. 두 번째로 인구가 많은 나라는 인도로 13억여 명, 세 번째가 3억 3,000만 명에 이르는 미국입니다.\n",
      "\n",
      "\n"
     ]
    },
    {
     "name": "stderr",
     "output_type": "stream",
     "text": [
      "Setting `pad_token_id` to `eos_token_id`:None for open-end generation.\n"
     ]
    },
    {
     "name": "stdout",
     "output_type": "stream",
     "text": [
      "10.  고대 이집트의 상형문자를 히에로글리프(Hieroglyph)라 부릅니다.\n",
      "\n",
      "히에로글리프는 이집트어 Hr-m-ib(r-m-ib)라는 단어가 유래이며, \"신성한 문양\"을 의미합니다. 이집트 상형문자는 일괄적인 규칙이나 문법에 따라 형성된 것이 아닙니다. 기호, 그림, 상형문자, 음소문자(phonogram), 수사 등 다양한 문자를 혼용했습니다.\n",
      "\n",
      "주로 신전, 무덤 등 종교적·왕権적 유적지에 새겨진 상형문자를 통해 고대 이집트 문화, 신화, 종교, 사회·정치·경제 등이 전해내립니다. 고대 이집트가 멸망한 후 오래간 동안 해독이 불가능했지만, 1799년 로제타석비 문서 발견을 기점으로 해독이 가능해졌습니다.\n",
      "\n",
      "\n"
     ]
    },
    {
     "name": "stderr",
     "output_type": "stream",
     "text": [
      "Setting `pad_token_id` to `eos_token_id`:None for open-end generation.\n"
     ]
    },
    {
     "name": "stdout",
     "output_type": "stream",
     "text": [
      "11.  파블로 피카소는 입체파와 가장 깊은 관련이 있습니다. 피카소는 쿠비즘을 창시하고, 서인상주의를 통해 입체파의 기반을 닦아냈습니다.\n",
      "\n",
      "1907년 완성한 \" Gerry의 피아노\"와 \"아박의 여인\"은 입체파의 중요한 전조에 해당하며, 1908년부터 1914년 사이의 작품들은 대표적인 입체파 사조로서 유명합니다. 1912년에는 \"아비뇽의 처녀들\"과 \"아비뇽의 예술가들\" 등 입체파의 기념비적인 작품들을 발표했습니다.\n",
      "\n",
      "피카소의 입체파 작품들은 3차원의 입체감을 표현하기 위해 여러 각도에서 보인 물체를 접착기법으로 조합한 유니크한 스타일을 자랑하며, 당시의 예술적 전통을 깨고 새로운 시각을 제시해 Kunststiller와 같이 당시의 또 다른 입체파 화가들에게 많은 영향을 주었습니다.\n",
      "\n",
      "\n"
     ]
    },
    {
     "name": "stderr",
     "output_type": "stream",
     "text": [
      "Setting `pad_token_id` to `eos_token_id`:None for open-end generation.\n"
     ]
    },
    {
     "name": "stdout",
     "output_type": "stream",
     "text": [
      "12.  태양계의 여덟 행성 중에서 가장 큰 행성은 B. 목성입니다. \n",
      "\n",
      "기상학에서는 토성이 목성보다 약간 작다는 소수의 의견도 있지만, 목성이 더 크다고 보는 것이 주류 학계의 평가입니다. \n",
      "\n",
      "목성의 지름은 대략 139,820km로, 나머지 행성들과 비교해 확연히 커서 2위를 찍는 토성보다도 9,400km 가량 더 크고, 3위인 고리 \n",
      "을 가진 69,911km 크기의 토성보다 1.97배만큼 더 커서 태양계에서 가장 거대하고 두 번째로 빛나는 천체입니다. \n",
      "\n",
      "이러한 크기에는 지구의 10.84 배나 되는 질량이 뒷받침되어 있습니다. 특히 태양계 행성 중에서 질량이 가장 무거워서 위성도 여럿 가졌을 뿐만 아니라, 소행성대와 행성간 성운까지 주위에 있는 유니크한 존재가 바로 목성입니다.\n",
      "\n",
      "목성의 거대함은 지구에서 7~8년이나 걸리는 11.86 해의 기른 고유 공전주기 동안 거대한 16미터의  '대홍염' 폭풍 등 다양한 모습으로 나타나곤 하지요. \n",
      "\n",
      "이런 특징들이 모여 태양계에서 가장 인상적인 모습을 보이는 행성이 목성이라는 걸 어렵지 않게 짐작할 수 있겠죠.\n",
      "\n",
      "\n"
     ]
    },
    {
     "name": "stderr",
     "output_type": "stream",
     "text": [
      "Setting `pad_token_id` to `eos_token_id`:None for open-end generation.\n"
     ]
    },
    {
     "name": "stdout",
     "output_type": "stream",
     "text": [
      "13.  C, 방갈로르입니다. 인도의 수도는 2014년 뭄바이에서 방갈로르로 이전되었습니다. 하지만 뉴델리는 인도의 정치적 수도로, 인도의 연방정부인 정부의 소재지입니다. 뭄바이는 마하라슈트라 주의 주도로, 인도의 주요 경제 도시 중 한 곳이자 볼리우드 영화 산업의 중심지입니다.\n",
      "\n",
      "\n"
     ]
    },
    {
     "name": "stderr",
     "output_type": "stream",
     "text": [
      "Setting `pad_token_id` to `eos_token_id`:None for open-end generation.\n"
     ]
    },
    {
     "name": "stdout",
     "output_type": "stream",
     "text": [
      "14.  Bakgt 120, 120, 120, 120, 120\n",
      "Bakgt 120, 120, 120, 120, 120\n",
      "Bakgt 120, 120, 120, 120, 120\n",
      "\n",
      "The Baroque period was a period of artistic, architectural, and cultural flourishing that took place primarily during the 17th century. Several notable composers emerged during this time, including:\n",
      "\n",
      "A. Johann Sebastian Bach (1685-1750) - German composer and musician of the Baroque period, widely regarded as one of the greatest composers of all time.\n",
      "\n",
      "B. Ludwig van Beethoven (1770-1827) - German composer, pianist, and conductor, born at the end of the Classical era and generally considered the pivotal figure linking the Classical and Romantic eras in Western music.\n",
      "\n",
      "C. Wolfgang Amadeus Mozart (1756-1791) - Austrian composer, regarding as one of the most influential composers of the Classical era.\n",
      "\n",
      "Therefore, among the given options, Johann Sebastian Bach (A) is the correct answer, as he was the only one who primarily active during the Baroque period.\n",
      "\n",
      "\n"
     ]
    },
    {
     "name": "stderr",
     "output_type": "stream",
     "text": [
      "Setting `pad_token_id` to `eos_token_id`:None for open-end generation.\n"
     ]
    },
    {
     "name": "stdout",
     "output_type": "stream",
     "text": [
      "15.  B. 아우구스투스는 로마 제국의 첫 번째 황제입니다.\n",
      "\n",
      "아우구스투스는 본명은 가이우스 옥타비아누스이며, 기원전 44년 가이우스 카이사르가 암살된 이후 권력을 장악하기 위해 내전을 벌인 끝에 승자가 되었습니다. 그는 기원전 27년 제정으로의 로마 제국의 체제Переход으로, 자신이 '아우구스투스'라는 칭호를 받고 사실상 황제가 되며 독재자의 지위를 얻은 것을 시작으로 로마제국을 건국하고 초대 황제로 등극한 것입니다. 이후 아우구스투스는 로마제국을 건국하고 평화와 번영의 시대를 열면서 로마제국 최초의 황제로 역사에 이름을 남겼습니다.\n",
      "\n",
      "\n"
     ]
    },
    {
     "name": "stderr",
     "output_type": "stream",
     "text": [
      "Setting `pad_token_id` to `eos_token_id`:None for open-end generation.\n"
     ]
    },
    {
     "name": "stdout",
     "output_type": "stream",
     "text": [
      "16.  C. 둘 다\n",
      "\n",
      "펭귄은 극지region에 서식하는 새로서, 북극과 남극 모두에서 볼 수 있습니다. 그러나 펭귄이 주로 서식하는 곳은 남극과 남극해안 region으로, 그곳에서 다양한 종의 펭귄이 발견됩니다. 북극에는 구세주 펭귄(Emperor Penguin)이 한 종만 서식합니다.\n",
      "\n",
      "\n"
     ]
    },
    {
     "name": "stderr",
     "output_type": "stream",
     "text": [
      "Setting `pad_token_id` to `eos_token_id`:None for open-end generation.\n"
     ]
    },
    {
     "name": "stdout",
     "output_type": "stream",
     "text": [
      "17.  A. 토머스 에디슨\n",
      "\n",
      "미국의 발명가 토머스 에디슨(Thomas Edison)이 전구를 발명했습니다. 1879년 그는 처음으로 전구에 전등 심지를 넣은 원리를 개발하여 수hundredRedds of hours without a break.)을 노력해 마침내 백은의 탄소 지푸라기를 사용하는 단명한 전구에서 고무로 코팅된 필라멘트를 사용하는 영구식을 만들어냈습니다.\n",
      "\n",
      "에디슨은 이 전구와 함께 전력 송전 시스템도 개발해 전구가 일반적으로 사용될 수 있는 기반을 마련하였습니다. 그의 연구실에는 1000여 대의 전구가 달린 전동기계가 장착되어 있었고, 그가 개발한 3000와트 전력 장치에서 전구를 통해 전력이 공급되었습니다. 이로 인해 전등은 많은 공공장소와 가정에 보급되었고, 전구는 산업화와 생활의 변革에 큰 영향을 미칩니다.\n",
      "\n",
      "그래서, 전구를 발명한 것은 토머스 에디슨이라 답할 수 있습니다. 그가 개발한 영구식 전구는 일상생활과 사회에 극적인 변화를 가져왔습니다.\n",
      "\n",
      "\n"
     ]
    },
    {
     "name": "stderr",
     "output_type": "stream",
     "text": [
      "Setting `pad_token_id` to `eos_token_id`:None for open-end generation.\n"
     ]
    },
    {
     "name": "stdout",
     "output_type": "stream",
     "text": [
      "18.  '모나리자'를 그린 화가는 correct answer Leornardo da Vinci입니다. 다빈치는 이탈리아에서 활동한 르네상스 시대의 대표 화가로서, 모나리자를 그린 것으로 가장 유명합니다. 이 그림은 그가 1503년부터 1519년 사이에 그린 것으로 추정됩니다.\n",
      "\n",
      "\n"
     ]
    },
    {
     "name": "stderr",
     "output_type": "stream",
     "text": [
      "Setting `pad_token_id` to `eos_token_id`:None for open-end generation.\n"
     ]
    },
    {
     "name": "stdout",
     "output_type": "stream",
     "text": [
      "19.  오스트레일리아가 세계에서 가장 작은 대륙입니다.\n",
      "\n",
      "\n",
      "20.  B. 잠비아와 짐바브웨\n",
      "\n",
      "빅토리아 폭포는 아프리카 남부 잠비아와 짐바브웨 국경 지대에 위치해 있습니다. 세계에서 가장 큰 물쇼 대역으로, 종감호 하에서 제임슨 강과 잠비아 강이 쏟아져 내리며 엄청난 물량을 쏟아부어 엄청난 소리와 함께 108m 가량 깊이의 협곡으로 세차게 떨어집니다. 하루 평균 4000에서 5000톤에 이르는 엄청난 수의 물이 쏟아지기 때문에 대낮에도 주변 공기가 뿌연 안개에 휩싸여 서늘한 냉기가 감돕니다. 때문에 \"스모크 그륨을 자르는 소리\" 라는 별칭으로 유명합니다.\n",
      "\n",
      "\n"
     ]
    }
   ],
   "source": [
    "for i, c in enumerate(choice):\n",
    "    messages = [\n",
    "        {\"role\": \"system\", \"content\": \"You are Qwen, created by Alibaba Cloud. You are a helpful assistant.\"},\n",
    "        {\"role\": \"user\", \"content\": c}\n",
    "    ]\n",
    "    text = tokenizer.apply_chat_template(\n",
    "        messages,\n",
    "        tokenize=False,\n",
    "        add_generation_prompt=True\n",
    "    )\n",
    "    model_inputs = tokenizer([text], return_tensors=\"pt\").to(model.device)\n",
    "\n",
    "    generated_ids = model.generate(\n",
    "        **model_inputs,\n",
    "        max_new_tokens=512\n",
    "    )\n",
    "    generated_ids = [\n",
    "        output_ids[len(input_ids):] for input_ids, output_ids in zip(model_inputs.input_ids, generated_ids)\n",
    "    ]\n",
    "    \n",
    "    response = tokenizer.batch_decode(generated_ids, skip_special_tokens=True)[0]\n",
    "    print(\"{}. \".format(i+1),response)\n",
    "    print(\"\\n\")"
   ]
  },
  {
   "cell_type": "code",
   "execution_count": 7,
   "metadata": {},
   "outputs": [
    {
     "name": "stderr",
     "output_type": "stream",
     "text": [
      "Setting `pad_token_id` to `eos_token_id`:None for open-end generation.\n",
      "Setting `pad_token_id` to `eos_token_id`:None for open-end generation.\n"
     ]
    },
    {
     "name": "stdout",
     "output_type": "stream",
     "text": [
      "1.  6.25전쟁은 1950년 6월 25일부터 1953년 7월 27일까지 한국에서 occurred 한 전쟁입니다. 2024년은 6.25전쟁이 시작된 지 73주년이 되는 해입니다.\n",
      "\n",
      "1950. 6. 25. ~ 1953. 7. 27.\n",
      "1950 + (73 - 2) = 1950 + 71 = 2021\n",
      "\n",
      "6.25전쟁은 1950년 6월 25일에爆発했습니다. 2024년에서 1950년을 빼고 2를 빼주면 6.25전쟁이 시작된 지 몇 년이 되는지 알 수 있습니다. 2024에서 1950을 빼면 74가 나옵니다. 74를 2024로 나눠주면 3.69(으)로 оста餘되는 16이 나옵니다. 16은 12와 4로 나눔가능하기 때문에 2024년 6월 25일까지는 72주년, 2024년 7월 27일까지는 73주년입니다.\n",
      "\n",
      "\n"
     ]
    },
    {
     "name": "stderr",
     "output_type": "stream",
     "text": [
      "Setting `pad_token_id` to `eos_token_id`:None for open-end generation.\n"
     ]
    },
    {
     "name": "stdout",
     "output_type": "stream",
     "text": [
      "2.  맨해튼 프로젝트 (Manhattan Project)입니다. 1942년부터 1945년까지 로버트 오펜하이머가 이끌었던 프로젝트로, 제2차 세계대전 기간 동안 미군이 세운 비밀 핵무기 개발 프로젝트였습니다. 이 프로젝트에서 개발된 최초의 원자폭탄은 1945년 8월 6일 일본 히로시마시에 투하된 '리틀 보이'와 8월 9일 나가사키에 투하된 '파도 버머'였습니다.\n",
      "\n",
      "\n"
     ]
    },
    {
     "name": "stderr",
     "output_type": "stream",
     "text": [
      "Setting `pad_token_id` to `eos_token_id`:None for open-end generation.\n"
     ]
    },
    {
     "name": "stdout",
     "output_type": "stream",
     "text": [
      "3.  고대 그리스의 수학자 아르키메데스가 목욕을 하다가 발견한 원리는 원심력이자 Archimedes' principle으로, 다음과 같습니다.\n",
      "\n",
      "\"물체가 수면 아래에 있을 때, 그 물체에 가하는 세력은 그 물체의 부피와 물체의 위에 있는 부분과 밑의 부분이 배수하는 수에 정확하게 비례한다고 하는 법칙\" \n",
      "\n",
      "이것이 수구(Archimedes' principle)라고 하는 원리로,浮力에 대한 법칙을 말합니다. 즉, 어떤 물체가 수면에 가라앉지 않는다면, 그 물체의 체적은 그 물체의 위에 있는 물의 하중과 균형을 이룬다는 것이 됩니다. \n",
      "\n",
      "이 원리를 발견한 전설에 따르면, 아르키메데스가 목욕을 하면서 온몸이 수면에 뜨는 걸 느끼고, '물에immersed한체적에 비례하는 부력을 물체가 받는다'는 것을 깨달았다고 합니다. 이 원리를 기반으로 아르키메데스는 많은 수학적 발견을 이루었습니다.\n",
      "\n",
      "\n"
     ]
    },
    {
     "name": "stderr",
     "output_type": "stream",
     "text": [
      "Setting `pad_token_id` to `eos_token_id`:None for open-end generation.\n"
     ]
    },
    {
     "name": "stdout",
     "output_type": "stream",
     "text": [
      "4.  애플의 창시자는 스티브 잡스랍니다. 스티브 잡스는 1955년 2월 24일에 태어났고, 2011년 10월 5일 향년 56세의 나이로 눈을 감았습니다. 2024년은 그의 태어난 지 69년에 해당됩니다.\n",
      "\n",
      "\n"
     ]
    },
    {
     "name": "stderr",
     "output_type": "stream",
     "text": [
      "Setting `pad_token_id` to `eos_token_id`:None for open-end generation.\n"
     ]
    },
    {
     "name": "stdout",
     "output_type": "stream",
     "text": [
      "5.  연평균 수익률(%)을 구하기 위해서는 단항 복리금리를 사용합니다. 5년 후 최종금액이 1,000원의 32,000원이 되었다고 한다면,\n",
      "\n",
      "1,000 * (1+r)^5 = 32,000\n",
      "\n",
      "을 풀어주면 됩니다.\n",
      "\n",
      "(1+r)^5 = 32,000 / 1,000 = 32\n",
      "\n",
      "r = (32)^(1/5) - 1 ≈ 0.0972  (기하평균 수익률)\n",
      "\n",
      "연평균 수익률(%) = 0.0972 * 100 ≈ 9.72%\n",
      "\n",
      "5년 기준으로, 1,000원의 2배수익을 냈다면 매년 약 9.72%의 수익을 냈다고 해석할 수 있습니다. 단, 이는 단항 복리금리를 전제한 계산값으로, 만약 복리금리가 일정하지 않다면 좀 더 복잡한 계산을 해야할 수 있습니다.\n",
      "\n",
      "\n"
     ]
    },
    {
     "name": "stderr",
     "output_type": "stream",
     "text": [
      "Setting `pad_token_id` to `eos_token_id`:None for open-end generation.\n"
     ]
    },
    {
     "name": "stdout",
     "output_type": "stream",
     "text": [
      "6.  2024년에 초등학교에 입학한 학생은 2024년 3월 1일이 만 6세(입학연령)라는 것을 전제로 계산해 볼 수 있습니다.\n",
      "\n",
      "1. 초졸 6학년시절:\n",
      "정기고입고사 전후 입학시 (ex)2024.03-1999.03 = 25년\n",
      "정기고입고사 후 입학시 (ex)2024.03-1999.09 = 24년\n",
      "\n",
      "2. 중졸 3학년시절:\n",
      "1999.03-2024.03 = 25년\n",
      "1999.09-2024.03 = 24년\n",
      "\n",
      "3. 고졸 학년시절:\n",
      "1999.03-2027.03 = 28년\n",
      "1999.09-2027.03 = 27년\n",
      "\n",
      "따라서 2024년에 초등학교에 입학한 학생이 고등학교를 졸업하는 해는 2025~2027년이 될 것입니다.\n",
      "\n",
      "\n"
     ]
    },
    {
     "name": "stderr",
     "output_type": "stream",
     "text": [
      "Setting `pad_token_id` to `eos_token_id`:None for open-end generation.\n"
     ]
    },
    {
     "name": "stdout",
     "output_type": "stream",
     "text": [
      "7.  주어진 문자열 'OpenAI'의 각 문자를 알파벳 순서대로 재배열하면 \"AIOeOPn\"이 됩니다.\n",
      "\n",
      "\n"
     ]
    },
    {
     "name": "stderr",
     "output_type": "stream",
     "text": [
      "Setting `pad_token_id` to `eos_token_id`:None for open-end generation.\n"
     ]
    },
    {
     "name": "stdout",
     "output_type": "stream",
     "text": [
      "8.  c) 큐비트가 항상 0과 1 중 하나의 상태만 가질 수 있다.\n",
      "\n",
      "이는 큐비트와 일반 비트가 가장 큰 차이가 나는 부분으로, 큐비트가 possess the key advantage over conventional bits.\n",
      "\n",
      "큐비트는 양자 슈뢰딩거 방정식(Schrödinger's equation)의Solutions인 Superposition of states due to Quantum Mechanics, 즉 0과 1의 중첩 상태를 동시에 가질 수 있는 능력이 일반 비트와 가장 큰 차이점이다. \n",
      "\n",
      "이 때문에 단일 큐비트는 9, 21, 02, ...와 같이 다양한 상태를 동시에 유지할 수 있으며, 이는 양자 컴퓨팅이 여러 경우의 수를 동시에 탐색할 수 있는 원인이 된다. \n",
      "\n",
      "반면 1비트(bit)는 항상 정적 상태인 0이거나 1이어야 한다. 한 1비트들이 많은 비트들을 통해 다양한 경우의 수를 표현할 수 있지만, 이는 순차적 처리이기 때문에 큐비트에 비하면 연산 속도가 느리다.\n",
      "\n",
      "이러한 특성들로 인해 양자 컴퓨팅은 어떤 문제에 대해 고전적인 컴퓨팅보다는 훨씬 빠른 연산 속도와 더 나은 성능을 기대할 수 있다.\n",
      "\n",
      "\n"
     ]
    },
    {
     "name": "stderr",
     "output_type": "stream",
     "text": [
      "Setting `pad_token_id` to `eos_token_id`:None for open-end generation.\n"
     ]
    },
    {
     "name": "stdout",
     "output_type": "stream",
     "text": [
      "9.  문자열 'abracadabra'에서 'a'가 나타나는 위치의 합을 구하세요.\n",
      "\n",
      "1. 문자를 저장할 배열 'str'을 선언하고 'abracadabra'를 할당합니다.\n",
      "2. 합 변수를 'sum'으로 선언하고 0으로 초기화합니다.\n",
      "3. 현재 인덱스 변수를 'idx'로 선언하고 1로 초기화합니다.\n",
      "4. 반복문 while문을 선언합니다. 조건으로 idx가 12 이하인지 확인합니다.\n",
      "    - 반복문 안쪽에서 idx를 1씩 증가시킵니다.\n",
      "    - 'str[idx - 1]'이 'a'와 같은지 비교합니다.\n",
      "        + 같은 경우 sum = sum + idx로 'a'의 위치 값을 더합니다.\n",
      "5. while문이 끝나면 sum 값을 출력한다.\n",
      "\n",
      "Python 프로그램:\n",
      "\n",
      "str = 'abracadabra'\n",
      "sum = 0\n",
      "idx = 1\n",
      "while idx <= 12:\n",
      "    idx += 1\n",
      "    if str[idx - 1] == 'a':\n",
      "        sum += idx\n",
      "\n",
      "print(sum)\n",
      "\n",
      "실행 결과는 1 + 2 + 5 + 7 + 9 + 11 = 35입니다.\n",
      "\n",
      "\n"
     ]
    },
    {
     "name": "stderr",
     "output_type": "stream",
     "text": [
      "Setting `pad_token_id` to `eos_token_id`:None for open-end generation.\n"
     ]
    },
    {
     "name": "stdout",
     "output_type": "stream",
     "text": [
      "10.  A, B, C, D, E 각각이 아래의 도시들 중 어디에 사는지 맞추어 보면 다음과 같습니다.\n",
      "- A는 인천에 살고 있습니다. (A는 서울이나 부산에 살지 않음)\n",
      "- B는 대구에 살고 있습니다. (B는 서울에 살고 있지 않음, D는 대구에 살지 않음)\n",
      "- C는 인천에 살고 있습니다. (C는 인천에 살고 있습니다.)  \n",
      "- D는 광주에 살고 있습니다. (D는 대구에 살지 않음, E는 광주에 살고 있음. 2명만이 남았음 따라서 D는 광주.)\n",
      "- E는 광주에 살고 있습니다. (E는 광주에 살고 있습니다.)\n",
      "\n",
      "이렇게 각각 A, B, C, D, E가 인천, 대구, 인천, 광주, 광주에 살고 있는 것을 알 수 있습니다. 1명을 2번 거르는 조건이 있기에 유추 가능한 문제네요!\n",
      "\n",
      "\n"
     ]
    },
    {
     "name": "stderr",
     "output_type": "stream",
     "text": [
      "Setting `pad_token_id` to `eos_token_id`:None for open-end generation.\n"
     ]
    },
    {
     "name": "stdout",
     "output_type": "stream",
     "text": [
      "11.  이 수열은 모두 10의 배수를 이루는 숫자들이 번갈아 나오는 수열입니다. \n",
      "2, 6, 12, 20, 30, ... \n",
      "\n",
      "1. 2(2×1) \n",
      "2. 6(2×3) \n",
      "3. 12(2×6) \n",
      "4. 20(2×10) \n",
      "5. 30(2×15)\n",
      "\n",
      "아무래도 다음에는 2×(10+1) = 21을 더한 20+21 = 41이 나올 것 같습니다. \n",
      "48, 48, 96, 160... \n",
      "\n",
      "이번에는 2×(60+1) = 120을 더한 160+120 = 280이 나올 것 같군요. \n",
      "520, 520, .... \n",
      "\n",
      "이처럼 수열의 다음 숫자가 30으로 작아진 것 같습니다. 520은 2×(1000-1) = 1998을 더한 것입니다.\n",
      "\n",
      "의심스럽네요. \n",
      "40, 40, 80, ... \n",
      "\n",
      "760은 2×(2^6-1) = 63(10진법) = 18(16진법)를 더한 것을 알 수 있습니다.\n",
      "\n",
      "4320(30×144) = 2(80x+16)\n",
      "4320 = 480x+320\n",
      "-320 = 60x\n",
      "x = -5 = 11(16진법)\n",
      "수열의 다음은 6(10진법), 6(10진법), 12(10진법), 24(10진법), 48(10진법), ...이 됩니다.\n",
      "\n",
      "그러므로 수열의 다음은 2, 6, 12, 20, 30, 6, 6, 12, 24, 48, 96, 192, ...이 됩니다.\n",
      "\n",
      "\n"
     ]
    },
    {
     "name": "stderr",
     "output_type": "stream",
     "text": [
      "Setting `pad_token_id` to `eos_token_id`:None for open-end generation.\n"
     ]
    },
    {
     "name": "stdout",
     "output_type": "stream",
     "text": [
      "12.  신화효과(Synergistic effect)라고 합니다. 여러 수단들이 협력을 통해 각각의 효과보다 훨씬 큰 효과를 발휘하는 것을 말합니다. 서로 강화 작용을 하여 1+1=3이以上의 효과를 создавать. \n",
      "\n",
      "주로 약물, 식품 등에 대해 사용되는 용어이며, 의학, 생물학, 약리학 등 다양한 분야에서 사용됩니다. 두 가지 이상의 성분들이 개별적으로 발휘하는 기능 이외에 새로운 기능을 발휘하여 효과가 증대되는 것을 의미합니다.\n",
      "\n",
      "예를 들어, A제품과 B제품 각각이 해로운 성분이면, 섞여서 사용했을 때 해로운 효과가 더욱 커지게 될 경우를 예로 들 수 있겠죠.\n",
      "\n",
      "\n"
     ]
    },
    {
     "name": "stderr",
     "output_type": "stream",
     "text": [
      "Setting `pad_token_id` to `eos_token_id`:None for open-end generation.\n"
     ]
    },
    {
     "name": "stdout",
     "output_type": "stream",
     "text": [
      "13.  barrel(abarrel)은 석유의 양을 나타내는 유닛이며, 1barrel=1bbl을 1단위라 한다. ① 1barrel의 크기는 다음과 같으므로 1단위에 약 159L에 해당한다.\n",
      "\n",
      "- 미국 기준(US): 42 US gallons = 158.987 L\n",
      "- 영국 기준(UK): 35 Imperial gallons = 160.543 L\n",
      "- 미국 표준(US): 42 US gallons = 158.987 L\n",
      "\n",
      "② 1990년에 미국에서 가동 중지된 모든 석유 통을 표준으로 하되 약간 보완한 정의가 받아들여져 165.65L로 정해졌다. \n",
      "\n",
      "③ 1909년 이전에는 100개의 31.5gal 통으로 1barrel을 정한 바 있다.\n",
      "\n",
      "④ 현재는 대부분의 국가에서 158.987 L(=42 US gal, ≈45 imp gal)을 채택하고 있다. \n",
      "\n",
      "하여튼 1barrel이 석유 운반에 사용된 통나무와 직접적 연관이 있다는 것은没错다.\n",
      "\n",
      "\n"
     ]
    },
    {
     "name": "stderr",
     "output_type": "stream",
     "text": [
      "Setting `pad_token_id` to `eos_token_id`:None for open-end generation.\n"
     ]
    },
    {
     "name": "stdout",
     "output_type": "stream",
     "text": [
      "14.  이 수열은 각 항이 이전 항의 2배 + 1로 결정되는 수열입니다.\n",
      "\n",
      "1. 4 × 2 = 8\n",
      "2. 8 + 1 = 9 (구해진 값과 일치)\n",
      "3. 9 × 2 = 18 \n",
      "4. 18 + 1 = 19\n",
      "5. 19 × 2 = 38\n",
      "6. 38 + 1 = 39\n",
      "7. 39 × 2 = 78\n",
      "8. 78 + 1 = 79\n",
      "9. 79 × 2 = 158\n",
      "10. 158 + 1 = 159\n",
      "\n",
      "따라서 수열의 다음 항은 69의 2배 + 1이어서 159가 됩니다.\n",
      "\n",
      "\n"
     ]
    },
    {
     "name": "stderr",
     "output_type": "stream",
     "text": [
      "Setting `pad_token_id` to `eos_token_id`:None for open-end generation.\n"
     ]
    },
    {
     "name": "stdout",
     "output_type": "stream",
     "text": [
      "15.  북극곰과 펭귄으로 총 14마리, 다리 44개 총 개수를 생각한다.\n",
      "해답:\n",
      "1. 북극곰(8) + 펭귄(14 - 8) = 14 (마리)\n",
      "   북극곰의 다리 수 = 8 × 4 = 32 (개)\n",
      "   44 - 32 = 12 (개)\n",
      "   펭귄의 다리 수 = 12 (개)\n",
      "   펭귄의 마리 수 = 12 ÷ 2 = 6 (마리)\n",
      "2. 14 - 8 = 6 (마리)\n",
      "   북극곰의 다리 수 = 8 × 4 = 32 (개) \n",
      "   44 - 32 = 12 (개)\n",
      "   펭귄의 다리 수 = 12 (개)\n",
      "   펭귄의 마리 수 = 12 ÷ 2 = 6 (마리)\n",
      "\n",
      "한 달 동안 400원씩 저금했다고 한다.\n",
      "30년간 총 얼마를 모을 수 있을까?\n",
      "• 24개월 = 2년\n",
      "• 36개월 = 3년\n",
      "• 48달 = 4년\n",
      "• 60달 = 5년\n",
      "• 120달 = 10년\n",
      "• 120달 × 3 = 30년\n",
      "   \n",
      "• 24 = 24 × 1 = 24월\n",
      "• 72 = 24 × 3 = 72월\n",
      "• 144 = 24 × 6 = 144월\n",
      "• 240 = 24 × 10 = 240월\n",
      "• 288 = 24 × 12 = 288월\n",
      "\n",
      "• 30년 = 120달\n",
      "• 120달 × 400원 = 48,000원\n",
      "\n",
      "\n"
     ]
    },
    {
     "name": "stderr",
     "output_type": "stream",
     "text": [
      "Setting `pad_token_id` to `eos_token_id`:None for open-end generation.\n"
     ]
    },
    {
     "name": "stdout",
     "output_type": "stream",
     "text": [
      "16.  지훈이 수강해야 하는 과목을 다음과 같이 결정할 수 있습니다:\n",
      "\n",
      "1. 만약 지훈이 C를 수강한다면, 1번 조건에 따라 A를 수강할 수 없으며, 2번 조건에 따라 B를 반드시 수강해야 합니다. 그러므로 지훈은 C와 B를 수강합니다. \n",
      "\n",
      "2. 만약 지훈이 B를 수강한다면, 2번 조건에 따라 A를 반드시 수강해야 합니다. 하지만 3번 조건에 따라 C를 수강할 수 있습니다. 그러므로 지훈은 A와 B를 수강해야 합니다. C는 선택적으로 수강할 수 있습니다.\n",
      "\n",
      "3. 만약 지훈이 A만 수강한다면, 2번 조건에 따라 B는 수강할 수 없으며, 1번 조건에 따라 C도 수강할 수 없습니다.\n",
      "\n",
      "따라서 지훈이 수강해야 하는 최소 과목은 A와 B입니다. C는 선택적으로 수강할 수 있습니다.\n",
      "\n",
      "\n"
     ]
    },
    {
     "name": "stderr",
     "output_type": "stream",
     "text": [
      "Setting `pad_token_id` to `eos_token_id`:None for open-end generation.\n"
     ]
    },
    {
     "name": "stdout",
     "output_type": "stream",
     "text": [
      "17.  \"이것\"은 블록체인입니다. 블록체인은 가상화폐 거래 내역을 분산하여 기록하는 데 사용되는 분산 장부 기술로, 해킹에 취약한 기존의 중심화된 장부 시스템을 대신할 수 있는 유효한 솔루션으로 자리잡아가고 있습니다. \n",
      "특히 블록체인에는 내역을 바꿀 수 없는 비가역성, 분산되어 기록되기 때문에 안전성이 높고, 공개를 결정할 수 있어 신용성 있는 특징이 있습니다. 이 같은 이유로 화폐·증권·정보·자산 등과 같은 다양한 분야에서 블록체인 기술을 활용하고 있습니다.\n",
      "\n",
      "\n"
     ]
    },
    {
     "name": "stderr",
     "output_type": "stream",
     "text": [
      "Setting `pad_token_id` to `eos_token_id`:None for open-end generation.\n"
     ]
    },
    {
     "name": "stdout",
     "output_type": "stream",
     "text": [
      "18.  \"이것(jeok)\" 사회는 여럿이 공동으로 생활을 하거나 교류하는 사회를 말하며, 한 가지 문제를 해결해 나가면 다른 부분에서 문제가 생기는 소위 \"스튜어트라드\"의 현상을 갖고 있는 사회를 일컬은 말이다. 이러한 사회에서는 자원이 한정되어 있기에 모든 사회成員가 원하는 것을 모두 이룰 수 없는 상황들이 발생한다. 그렇기에 특정 집단의 이득 달성을 위해 다른 계층의 이해관계가 밀리거나 손해보는 현상이 빈번하다. \n",
      "\n",
      "이러한 \"이것\"사회의 문제점은 다음과 같은데, \n",
      "1) 각 집단의 이해가 상충되어 사회 전반에 갈등이 생김 \n",
      "2) 소수 이익집단의 횡포가 부당하게 행해질 수 있음\n",
      "3) 재분배와 복지가 적정하게 이루어지지 않음\n",
      "4) 공공재, 환경오염 등의 문제들이 해결되지 않게 되기도 함\n",
      "\n",
      "따라서 소위 \"와인-치즈\"와 같은 제로섬 게임보다 사회 전LAG(Total Least Avarage)의 기준에 맞춰서 문제해결이 이뤄져야 한다. \n",
      "\"이것\" 사회라는 말은 이러한 사회의 한계를 드러내어 가부를 불문하고 모든 주체들이 사회 발전에 동참하고 소외되어서는 안 된다고 호소하는 의미를 담고 있다.\n",
      "\n",
      "\n"
     ]
    },
    {
     "name": "stderr",
     "output_type": "stream",
     "text": [
      "Setting `pad_token_id` to `eos_token_id`:None for open-end generation.\n"
     ]
    },
    {
     "name": "stdout",
     "output_type": "stream",
     "text": [
      "19.  야구에서 노아웃, 원아웃에서는 주자가 1, 2루나 만루에 있을 때, 타자가 내야뜬공을 날렸을 경우에 주심이 아웃 선언을 할 수 있는 조치의 이름은 '인플레이드 아웃'이거나 '노 보이드 아웃'이라고 합니다.\n",
      "\n",
      "인플레이드 아웃은 주심이 수비 야수에게 공을 떨어뜨려 병살타를 만들지 않고 주자를 내보내게 할 수 없도록 하는 조치입니다. \n",
      "\n",
      "주심은 내야뜬구에 대해 아웃 선언을 할 때 공의 높이가 구장 규정에 맞는지, 공의 속도나 운동궤적이 안정된 뜬공이며 수비수들이 충분히 잡을 수 있는 공으로 판단될 때만 인플레이드 아웃을 선언할 수 있습니다. \n",
      "\n",
      "이 조치로 인해 수비수가 고의로 공을 흘려보내서 병살을 막을 수 없도록 막는 것이 PURPOSE입니다. 주심의 재량이 필요한 부분입니다.\n",
      "\n",
      "\n",
      "20.  10+9=∞\n",
      "\n",
      "각 수학식의 결과가 다음과 같이 점점 커지는 것을 볼 수 있습니다.\n",
      "- 3+2 = 5\n",
      "- 5+4 = 9\n",
      "- 7+6 = 13\n",
      "- 9+8 = 17\n",
      "- 10+9 = 19\n",
      "\n",
      "이상에서 볼 수 있는 것처럼 결과값을 예언해 낸다면, 다음 수학식은 19+20=39로 나올 것 같습니다.\n",
      "\n",
      "\n"
     ]
    }
   ],
   "source": [
    "for i,s in enumerate(subjective):\n",
    "    messages = [\n",
    "        {\"role\": \"system\", \"content\": \"You are Qwen, created by Alibaba Cloud. You are a helpful assistant.\"},\n",
    "        {\"role\": \"user\", \"content\": s}\n",
    "    ]\n",
    "    text = tokenizer.apply_chat_template(\n",
    "        messages,\n",
    "        tokenize=False,\n",
    "        add_generation_prompt=True\n",
    "    )\n",
    "    model_inputs = tokenizer([text], return_tensors=\"pt\").to(model.device)\n",
    "\n",
    "    generated_ids = model.generate(\n",
    "        **model_inputs,\n",
    "        max_new_tokens=512\n",
    "    )\n",
    "    generated_ids = [\n",
    "        output_ids[len(input_ids):] for input_ids, output_ids in zip(model_inputs.input_ids, generated_ids)\n",
    "    ]\n",
    "    \n",
    "    response = tokenizer.batch_decode(generated_ids, skip_special_tokens=True)[0]\n",
    "    print(\"{}. \".format(i+1),response)\n",
    "    print(\"\\n\")"
   ]
  },
  {
   "cell_type": "code",
   "execution_count": 8,
   "metadata": {},
   "outputs": [
    {
     "name": "stderr",
     "output_type": "stream",
     "text": [
      "Setting `pad_token_id` to `eos_token_id`:None for open-end generation.\n",
      "Setting `pad_token_id` to `eos_token_id`:None for open-end generation.\n"
     ]
    },
    {
     "name": "stdout",
     "output_type": "stream",
     "text": [
      "1.  To find the height of the rectangle given the width to height ratio of 14:9 and the perimeter of 46, we can use the following steps:\n",
      "\n",
      "Let the width of the rectangle be 14x and the height be 9x, where x is a positive number.\n",
      "\n",
      "The perimeter (P) of a rectangle is given by the formula: P = 2 × (width + height)\n",
      "\n",
      "Given:\n",
      "- Width to height ratio = 14:9\n",
      "- Perimeter (P) = 46\n",
      "\n",
      "Step 1: Substitute the given values into the perimeter formula.\n",
      "46 = 2 × (14x + 9x)\n",
      "\n",
      "Step 2: Simplify the equation.\n",
      "46 = 2 × (23x)\n",
      "46 = 46x\n",
      "\n",
      "Step 3: Solve for x by dividing both sides by 46.\n",
      "x = 1\n",
      "\n",
      "Step 4: Find the height by multiplying the height factor by x.\n",
      "Height = 9 × x = 9 × 1 = 9\n",
      "\n",
      "Therefore, the height of the rectangle is 9.\n",
      "\n",
      "\n"
     ]
    },
    {
     "name": "stderr",
     "output_type": "stream",
     "text": [
      "Setting `pad_token_id` to `eos_token_id`:None for open-end generation.\n"
     ]
    },
    {
     "name": "stdout",
     "output_type": "stream",
     "text": [
      "2.  12%의 소금물에 100g의 수돗물을 더 넣었더니 6%의 소금물이 되었다고 합니다. 원 소금물의 양을 구하는 문제입니다.\n",
      "\n",
      "정량분석법(정량서사분해법)을 활용해 문제를 해결합니다.\n",
      "1. 등식 세팅:\n",
      "\n",
      "x - 12% 이소금물\n",
      "100g - 수돗물\n",
      "x + 100g - 120g 이소금물 (원하는 농도의 소금물)\n",
      "\n",
      "2. 변환:\n",
      "\n",
      "(120g - 100g)/100g x x = (120g/100g - 6%) / (100% - 6%)\n",
      "\n",
      "3. 풀기:\n",
      "0.2 x x = 0.06\n",
      "x = 0.06 / 0.2\n",
      "x = 300g\n",
      "\n",
      "(12% - 6%) / (6%) x 원 소금물 = (6% - 12%) / (6%)\n",
      "(6% / 6%) x 원 소금물 = (12% - 6%) / (6%)\n",
      "x = (12 - 120/100) / (6)\n",
      "  = (12 - 1.2) / 0.06\n",
      "  = 10.8 / 0.06\n",
      "  = 180\n",
      "\n",
      "정답은 b. 90g 입니다.\n",
      "\n",
      "\n"
     ]
    },
    {
     "name": "stderr",
     "output_type": "stream",
     "text": [
      "Setting `pad_token_id` to `eos_token_id`:None for open-end generation.\n"
     ]
    },
    {
     "name": "stdout",
     "output_type": "stream",
     "text": [
      "3.  연속하는 세 짝수의 합이 48이라고 할 때, 이 중 가장 작은 짠수를 구하려면 다음과 같이 계산하면 됩니다.\n",
      "\n",
      "연속하는 세 짝수를 a, a+2, a+4 라고 가정할 때, \n",
      "\n",
      "a + (a+2) + (a+4) = 48\n",
      "\n",
      "3a + 6 = 48\n",
      "\n",
      "3a = 42\n",
      "\n",
      "a = 14\n",
      "\n",
      "따라서 가장 작은 짝수는 14이 됩니다.\n",
      "\n",
      "따라서 14, 16, 18는 연속하는 세 짝수이고, 합은 14 + 16 + 18 = 48이 됩니다.\n",
      "\n",
      "\n"
     ]
    },
    {
     "name": "stderr",
     "output_type": "stream",
     "text": [
      "Setting `pad_token_id` to `eos_token_id`:None for open-end generation.\n"
     ]
    },
    {
     "name": "stdout",
     "output_type": "stream",
     "text": [
      "4.  아직 그 답은 떠오르질 않았어요. 잠깐만 더 생각해볼게요.\n",
      "\n",
      "정답은 c. 18이에요.\n",
      "\n",
      "설명을 적어줄게요. paternal age - daughter's current age + 16 = 2 × daughter's current age\n",
      "9 - daughter's current age + 16 = 2 × daughter's current age\n",
      "25 - daughter's current age = 2 × daughter's current age\n",
      "daughter's current age = 18\n",
      "\n",
      "따라서 정답은 c. 18이죠!\n",
      "\n",
      "\n"
     ]
    },
    {
     "name": "stderr",
     "output_type": "stream",
     "text": [
      "Setting `pad_token_id` to `eos_token_id`:None for open-end generation.\n"
     ]
    },
    {
     "name": "stdout",
     "output_type": "stream",
     "text": [
      "5.  주어진 3개의 자연수(92, 46, 322) 중에서 최대공약수를 찾으려면, 먼저 2개의 수의 최대공약수를 구하고, 그 결과값과 remaining number의 최대공약수를 구하는 것이 이득입니다. \n",
      "\n",
      "이 문제를 위해, 우선 92와 46의 최대공약수를 구하는 방법을 설명하겠습니다. \n",
      "1. 92 = 2^2 * 23\n",
      "   46 = 2 * 23\n",
      "\n",
      "2. 92와 46의 공약수들은 92의 소인수들이 모두 46의 소인수들의 배수이면 가능합니다. \n",
      "   - 92의 소인수 23은 배수 관계가 성립\n",
      "   - 92의 소인수 2^2 = 4는 46의 소인수 2의 배수와 배수 관계가 성립\n",
      "\n",
      "3. 따라서, 92와 46의 최대공약수 = 2^2 * 23 = 92\n",
      "\n",
      "4. 이제 92와 322의 최대공약수를 구해보겠습니다. \n",
      "   322 = 2 * 7 * 23\n",
      "   92 = 2^2 * 23 \n",
      "\n",
      "5. 92와 322의 공약수들은 92의 소인수들이 모두 322의 소인수들의 배수이면 가능합니다.\n",
      "   - 92의 소인수 23은 배수 관계가 성립\n",
      "   - 92의 소인수 2^2 = 4는 322의 소인수 2의 배수와 배수 관계가 성립\n",
      "\n",
      "6. 따라서, 92와 322의 최대공약수 = 2^2 * 23 = 92 (92는 322의 배수이지만 92를 322로 나눈 나머지 0이 아니므로 배수 관계는 아닌 것을 고려하겠습니다.)\n",
      "\n",
      "7. 92를 2개로 나눈다 = 92 / 2 = 46, 322를 2로 나눈다 = 322 / 2 = 161\n",
      "\n",
      "8. 이제 9\n",
      "\n",
      "\n"
     ]
    },
    {
     "name": "stderr",
     "output_type": "stream",
     "text": [
      "Setting `pad_token_id` to `eos_token_id`:None for open-end generation.\n"
     ]
    },
    {
     "name": "stdout",
     "output_type": "stream",
     "text": [
      "6.  해법을 구하기 위해, 우선 두 변의 계수를 같은 쪽으로 보먼 \n",
      "-2 * (5 * x - 2) : -9 = -3 * (-2 * x + 2) : -9 \n",
      "를\n",
      "(-10*x + 4) : -9 = (-6*x + 6) : -9 \n",
      "이라고 정리할 수 있습니다.\n",
      "\n",
      "이제 좌변의 4와 우변의 6이 같은 숫자로 보이겠지만, 실제로 그렇지 않습니다.\n",
      "그렇기에, 일차 평등방정식의 해를 구하기 위해 두 변의 계수를 같은 쪽으로 보면서 수를 더한 값을 대입해도 상관없다.\n",
      "-2 * (5 * x - 2) - 3 * (-2 * x + 2) : -9 = 0\n",
      "(-10 * x + 4) - (-12 * x + 6) : -9 = 0\n",
      "(-10 * x + 4) + (12 * x - 6) : -9 = 0\n",
      "(2 * x - 2) : -9 = 0\n",
      "\n",
      "수를 9로 나누면,\n",
      "(2 * x - 2) / -9 = 0\n",
      "2 * x - 2 = 0\n",
      "2 * x = 2\n",
      "x = 1\n",
      "\n",
      "결과적으로, 이 두 일차평등방정식의 해는 x = 1이 된다.\n",
      "\n",
      "\n"
     ]
    },
    {
     "name": "stderr",
     "output_type": "stream",
     "text": [
      "Setting `pad_token_id` to `eos_token_id`:None for open-end generation.\n"
     ]
    },
    {
     "name": "stdout",
     "output_type": "stream",
     "text": [
      "7.  x=2, y=1인 경우, -3*x + 3*y의 값은 1이 됩니다. \n",
      "\n",
      "(-3)*2 + 3*1\n",
      "= -6 + 3 \n",
      "= -3 + 3\n",
      "= 0\n",
      "\n",
      "그러나 0 + 1 = 1 이 됩니다.\n",
      "\n",
      "\n"
     ]
    },
    {
     "name": "stderr",
     "output_type": "stream",
     "text": [
      "Setting `pad_token_id` to `eos_token_id`:None for open-end generation.\n"
     ]
    },
    {
     "name": "stdout",
     "output_type": "stream",
     "text": [
      "8.  원의 둘레가 8π일 때, 원의 반지름을 구하는 방법은 다음과 같습니다.\n",
      "\n",
      "1. 원의 둘레 공식: C = 2πr \n",
      "   - 여기서 C는 둘레, π는 원주율, r은 반지름입니다.\n",
      "\n",
      "2. 지정된 정보: C = 8π \n",
      "\n",
      "3. 이를 제어방정식으로 놓고 r의 값을 구합니다.\n",
      "   8π = 2πr\n",
      "   \n",
      "   8 = 2r\n",
      "   \n",
      "   r = 4\n",
      "\n",
      "4. 따라서, 원의 반지름은 4가 됩니다.\n",
      "\n",
      "5. 지름은 반지름의 2배이므로, 지름 = 2 × 반지름 = 2 × 4 = 8입니다.\n",
      "\n",
      "결론: 원의 둘레가 8π일 때, 원의 지름은 8입니다.\n",
      "\n",
      "\n"
     ]
    },
    {
     "name": "stderr",
     "output_type": "stream",
     "text": [
      "Setting `pad_token_id` to `eos_token_id`:None for open-end generation.\n"
     ]
    },
    {
     "name": "stdout",
     "output_type": "stream",
     "text": [
      "9.  원의 넓이 = π × 반지름^2\n",
      "\n",
      "원을의 넓이가 36π이라면,\n",
      "36π = π × 반지름^2\n",
      "\n",
      "이를 해소하기 위해 π를 양변에서 나누면,\n",
      "36π ÷ π = 반지름^2\n",
      "36 = 반지름^2\n",
      "\n",
      "이를平方근을 취하면,\n",
      "√36 = 반지름\n",
      "6 = 반지름\n",
      "\n",
      "따라서, 반지름이 6인 원이 36π의 넓이를 가집니다.\n",
      "\n",
      "\n"
     ]
    },
    {
     "name": "stderr",
     "output_type": "stream",
     "text": [
      "Setting `pad_token_id` to `eos_token_id`:None for open-end generation.\n"
     ]
    },
    {
     "name": "stdout",
     "output_type": "stream",
     "text": [
      "10.  수를 넣어주세요.\n",
      "\n",
      "\n"
     ]
    },
    {
     "name": "stderr",
     "output_type": "stream",
     "text": [
      "Setting `pad_token_id` to `eos_token_id`:None for open-end generation.\n"
     ]
    },
    {
     "name": "stdout",
     "output_type": "stream",
     "text": [
      "11.  물체의 운동 에너지는 다음과 같이 구할 수 있습니다.\n",
      "운동 에너지 = 운동량 / 2 = (질량 x 속도^2) / 2\n",
      "\n",
      "주어진 정보:\n",
      "- 물체의 질량 (m): 1 kg\n",
      "- 물체의 속도 (v): 10 m/s\n",
      "\n",
      "운동량 (p) = m x v = 1 kg x 10 m/s = 10 kg·m/s\n",
      "\n",
      "운동 에너지 (E) = p / 2 = 10 kg·m/s / 2 = 5 kg·m^2/s^2\n",
      "\n",
      "따라서, 1kg의 물체의 운동 에너지는 5 kg·m^2/s^2, 즉 5 J(줄)이다.\n",
      "\n",
      "\n"
     ]
    },
    {
     "name": "stderr",
     "output_type": "stream",
     "text": [
      "Setting `pad_token_id` to `eos_token_id`:None for open-end generation.\n"
     ]
    },
    {
     "name": "stdout",
     "output_type": "stream",
     "text": [
      "12.  x^2 - 5x + 6 = 0 \n",
      "\n",
      "(1) 가산법:\n",
      "a = 1, b = -5, c = 6\n",
      "(-b ± √(b^2 - 4ac)) / 2a  \n",
      "= (- (-5) ± √(25 - 4 × 1 × 6)) / 2 × 1\n",
      "= (5 ± √(25 - 24)) / 2  \n",
      "= (5 ± 1) / 2\n",
      "= 6 / 2 = 3\n",
      "   √(25 - 24) = 1\n",
      "= (5 - 1) / 2 = 2\n",
      "x₁ = 3, x₂ = 2\n",
      "\n",
      "(2) 식의 고치기:\n",
      "x^2 - 5x + 6 = 0\n",
      "x^2 - 5x = -6\n",
      "x^2 - 5x + 6 = 6\n",
      "(x - 2)(x - 3) = 0\n",
      "x - 2 = 0 or x - 3 = 0\n",
      "x₁ = 2, x₂ = 3\n",
      "\n",
      "(3) 계수분해법:\n",
      "x^2 - 5x + 6 = 0\n",
      "= (x - 2)(x - 3) = 0\n",
      "x₁ = 2, x₂ = 3\n",
      "\n",
      "(4) 공통정보\n",
      "x₁ = 3, x₂ = 2\n",
      "or\n",
      "x₁ = 2, x₂ = 3\n",
      "\n",
      "따라서 x^2 - 5x + 6 = 0의 두 해는 x₁ = 3, x₂ = 2 or x₁ = 2, x₂ = 3 이다.\n",
      "\n",
      "\n"
     ]
    },
    {
     "name": "stderr",
     "output_type": "stream",
     "text": [
      "Setting `pad_token_id` to `eos_token_id`:None for open-end generation.\n"
     ]
    },
    {
     "name": "stdout",
     "output_type": "stream",
     "text": [
      "13.  1000 이하의 자연수 중에서 3의 배수이면서 5의 배수가 아닌 자연수의 총 개수는 다음과 같습니다.\n",
      "\n",
      "3의 배수 : 3, 6, 9, ..., 999\n",
      "5의 배수 : 5, 10, 15, ..., 995\n",
      "3과 5의 공배수 : 15, 45, 75, ..., 975\n",
      "\n",
      "3의 배수 중에서 5의 배수를 뺀 개수 = (999 ÷ 3) - (995 ÷ 15) = 333 - 66 = 267\n",
      "\n",
      "따라서 1000 이하의 자연수 중 3의 배수이면서 5의 배수가 아닌 숫자의 총 개수는 267개입니다.\n",
      "\n",
      "\n"
     ]
    },
    {
     "name": "stderr",
     "output_type": "stream",
     "text": [
      "Setting `pad_token_id` to `eos_token_id`:None for open-end generation.\n"
     ]
    },
    {
     "name": "stdout",
     "output_type": "stream",
     "text": [
      "14.  가로 7칸, 세로 7칸인 격자 미로에서 오른쪽이나 아래로만 이동할 수 있는 경로의 수는 아래와 같이 계산할 수 있습니다.\n",
      "\n",
      "이때, 오른쪽 방향으로 이동하는 횟수와 아래쪽 방향으로 이동하는 횟수를 각각 7번씩 해서 길을 찾아야 합니다. \n",
      "이동 경로의 총 횟수는 7 + 7 = 14입니다.\n",
      "\n",
      "오른쪽으로 7번 가거나 아래로 7번 가는 경우는 각각 1가지 뿐이죠.\n",
      "오른쪽으로 6번 아래쪽으로 8번 가는 경우와 아래쪽으로 6번 오른쪽으로 8번 가는 경우도 각각 1가지 뿐입니다.\n",
      "\n",
      "이게 끝이 아닙니다. 오른쪽 5번 아래쪽 6번, 오른쪽 6번 아래쪽 5번, 오른쪽 4번 아래쪽 7번, 오른쪽 7번 아래쪽 4번, 각각 2가지의 방법이 존재합니다.\n",
      "\n",
      "이렇게 추측해 봅시다. 오른쪽에서 2번, 아래에서 2번 하는 방법 (오른쪽으로 5번, 아래쪽으로 5번)은 2 * 2 = 4가 됩니다.\n",
      "오른쪽으로 3번 가고 아래쪽으로 4번 가거나 (오른쪽으로 4번 가도 됩니다),\n",
      "아래쪽으로 3번 가고 오른쪽으로 4번 가도 4가지 경우에 해당합니다.\n",
      "오른쪽에서 3번, 아래로 3번도 3 * 3 = 9가지입니다.\n",
      "오른쪽으로 4번, 아래로 3번이나 반대로도 4 * 4 = 16가지입니다.\n",
      "오른쪽 4번, 아래 4번도 4 * 4 = 16가지입니다.\n",
      "\n",
      "이더를 1씩 줄이면서 세어보면,\n",
      "4 4 3 3: 4 * 4 * 3 * 3 = 96\n",
      "4 3 4 3: 4 * 3 * 4 * 3 = 96\n",
      "4 3 3 4: 4 * 3 * 3 * 4 = 96\n",
      "3 4 3 4: 3 * 4 * 3 * 4 = 72\n",
      "3 4 4 3: 3 * 4 * 4 * 3 = 72\n",
      "3 3 4 4: 3 *\n",
      "\n",
      "\n"
     ]
    },
    {
     "name": "stderr",
     "output_type": "stream",
     "text": [
      "Setting `pad_token_id` to `eos_token_id`:None for open-end generation.\n"
     ]
    },
    {
     "name": "stdout",
     "output_type": "stream",
     "text": [
      "15.  주사위 두 개를 던질 때, 두 주사위의 눈금의 합이 7이거나 11이 될 확률은 다음과 같이 계산됩니다.\n",
      "\n",
      "1. 각 주사위에는 1부터 6까지의 눈금이 있으며, 6면체의 주사위 2개를 던졌을 때, 모든 경우의 수는 6 * 6 = 36가지입니다.\n",
      "\n",
      "2. 두 주사위의 눈금의 합이 7이 될 수 있는 경우의 수는 다음과 같습니다.\n",
      "   - (1, 6), (2, 5), (3, 4), (4, 3), (5, 2), (6, 1): 6가지\n",
      "   이에 대한 확률은 6 / 36 = 1/6입니다.\n",
      "\n",
      "3. 두 주사위의 눈금의 합이 11이 될 수 있는 경우의 수는 다음과 같습니다.\n",
      "   - (5, 6), (6, 5): 2가지\n",
      "   이에 대한 확률은 2 / 36 = 1/18입니다.\n",
      "\n",
      "4. 따라서, 두 주사위의 눈금의 합이 7이거나 11이 될 확률은 1/6 + 1/18 = 3/18 = 1/6입니다.\n",
      "\n",
      "따라서, 주사위 두 개를 던질 때, 두 주사위의 눈금의 합이 7이거나 11이 될 확률은 1/6(약 16.67%)입니다.\n",
      "\n",
      "\n"
     ]
    },
    {
     "name": "stderr",
     "output_type": "stream",
     "text": [
      "Setting `pad_token_id` to `eos_token_id`:None for open-end generation.\n"
     ]
    },
    {
     "name": "stdout",
     "output_type": "stream",
     "text": [
      "16.  두 수의 곱을 구하기 위해서는 최대 공약수와 최소 공배수를 활용할 수 있습니다. \n",
      "\n",
      "최소 공배수 = 최대 공약수 × 두 수 중 한 수\n",
      "= 12 × x\n",
      "\n",
      "두 수의 곱 = x × y\n",
      "= (240 ÷ 12) × 240 \n",
      "= 20 × 240\n",
      "= 4,800\n",
      "\n",
      "따라서, 두 수의 곱은 4,800입니다.\n",
      "\n",
      "\n"
     ]
    },
    {
     "name": "stderr",
     "output_type": "stream",
     "text": [
      "Setting `pad_token_id` to `eos_token_id`:None for open-end generation.\n"
     ]
    },
    {
     "name": "stdout",
     "output_type": "stream",
     "text": [
      "17.  3, 4, 5가 일차방정식의 해는 3, -4, 5입니다. \n",
      "이 때, 4가 음수라는 것은 일차방정식으로부터 얻을 수 있는 값을 의미하는 것이 아니므로, 이 값들은 일차방정식의 해가 아닙니다.\n",
      "\n",
      "이 삼각형은 정삼각형입니다. 세 변이 모두 5라는 것은 이 삼각형의 각 변이 등쪽입니다.\n",
      "\n",
      "정삼각형의 넓이를 구하는 공식은 다음과 같습니다:\n",
      "정삼각형의 넓이 = 3√3/4 * (변의 길이)^2\n",
      "\n",
      "(변의 길이는 5니까) \n",
      "\n",
      "정삼각형의 넓이 = 3√3/4 * 5^2 \n",
      "= 3√3/4 * 25\n",
      "= 75√3/4\n",
      "= 18.75√3 (소수점으로 둘 때)\n",
      "\n",
      "= 30.9016994 (4자리까지 소수점으로 표기하면)\n",
      "\n",
      "\n"
     ]
    },
    {
     "name": "stderr",
     "output_type": "stream",
     "text": [
      "Setting `pad_token_id` to `eos_token_id`:None for open-end generation.\n"
     ]
    },
    {
     "name": "stdout",
     "output_type": "stream",
     "text": [
      "18.  벡터 a=(2,3) 와 b=(-1,4)의 내적은 다음과 같이 구할 수 있습니다.\n",
      "\n",
      "a · b = a1b1 + a2b2\n",
      "     = 2 * (-1) + 3 * 4\n",
      "     = -2 + 12\n",
      "     = 10\n",
      "\n",
      "따라서 벡터 a=(2,3) 와 b=(-1,4) 의 내적은 10입니다.\n",
      "\n",
      "\n"
     ]
    },
    {
     "name": "stderr",
     "output_type": "stream",
     "text": [
      "Setting `pad_token_id` to `eos_token_id`:None for open-end generation.\n"
     ]
    },
    {
     "name": "stdout",
     "output_type": "stream",
     "text": [
      "19.  이차함수 y=−x^2+4x−3의 꼭지점의 좌표를 구하기 위해서는 먼저 함수를 다음과 같이 고차식 계수배로 변환합니다.\n",
      "\n",
      "y = −x^2 + 4x - 3 = −(x^2 - 4x) - 3 = −(x - 2)^2 - 1\n",
      "\n",
      "이 함수는 y = -(x - 2^2) - 1의 형태로 되어 있습니다. 이차함수 y = ax^2 + bx + c 로부터는 다음과 같이 꼭지점의 x좌표를 구할 수 있습니다.\n",
      "\n",
      "x = −b / 2a  (a ≠ 0)\n",
      "\n",
      "이차함수 y = −(x - 2^2) - 1 로부터는 a = 1, b = 4a = 4일 때,\n",
      "x = −b / 2a = −4 / (2 × 1) = −2이다.\n",
      "\n",
      "이 때 y좌표는\n",
      "y = −(x - 2^2) - 1 = −((−2) - 2^2) - 1 = 1 - 1 = 0 이다.\n",
      "\n",
      "따라서 이차함수 y=−x^2+4x−3의 꼭지점의 좌표는 (─2, 0)이다.\n",
      "\n",
      "\n",
      "20.  정사각형일 때, 두 변의 길이가 5cm와 12cm이므로 각 변은\n",
      "\n",
      "5cm, 12cm, 13cm, 12cm \n",
      "\n",
      "으로, 5cm와 12cm은 직각삼각형으로 이루어진 정사각형인 것을 확인할 수 있습니다.\n",
      "\n",
      "직각삼각형에서 밑변과 높이는 5cm와 12cm 인 경우,\n",
      "\n",
      "넓이는 \n",
      "\n",
      "(5×12) ÷ 2 = 30cm²\n",
      "\n",
      "입니다.\n",
      "\n",
      "따라서, 이 삼각형의 넓이는 30cm²입니다.\n",
      "\n",
      "\n"
     ]
    }
   ],
   "source": [
    "for i, t in enumerate(calculation):\n",
    "    messages = [\n",
    "        {\"role\": \"system\", \"content\": \"You are Qwen, created by Alibaba Cloud. You are a helpful assistant.\"},\n",
    "        {\"role\": \"user\", \"content\": t}\n",
    "    ]\n",
    "    text = tokenizer.apply_chat_template(\n",
    "        messages,\n",
    "        tokenize=False,\n",
    "        add_generation_prompt=True\n",
    "    )\n",
    "    model_inputs = tokenizer([text], return_tensors=\"pt\").to(model.device)\n",
    "\n",
    "    generated_ids = model.generate(\n",
    "        **model_inputs,\n",
    "        max_new_tokens=512\n",
    "    )\n",
    "    generated_ids = [\n",
    "        output_ids[len(input_ids):] for input_ids, output_ids in zip(model_inputs.input_ids, generated_ids)\n",
    "    ]\n",
    "    \n",
    "    response = tokenizer.batch_decode(generated_ids, skip_special_tokens=True)[0]\n",
    "    print(\"{}. \".format(i+1),response)\n",
    "    print(\"\\n\")"
   ]
  },
  {
   "cell_type": "markdown",
   "metadata": {},
   "source": [
    "## Benchmarking_HHK ##"
   ]
  },
  {
   "cell_type": "code",
   "execution_count": null,
   "metadata": {},
   "outputs": [],
   "source": [
    "from transformers import AutoTokenizer, AutoModelForCausalLM\n",
    "from transformers import TextStreamer, GenerationConfig\n",
    "import torch\n",
    "import warnings\n",
    "warnings.filterwarnings(action='ignore')"
   ]
  },
  {
   "cell_type": "code",
   "execution_count": null,
   "metadata": {},
   "outputs": [
    {
     "data": {
      "application/vnd.jupyter.widget-view+json": {
       "model_id": "5d82fd398b2c4be887f763af00ab8c11",
       "version_major": 2,
       "version_minor": 0
      },
      "text/plain": [
       "Loading checkpoint shards:   0%|          | 0/2 [00:00<?, ?it/s]"
      ]
     },
     "metadata": {},
     "output_type": "display_data"
    },
    {
     "data": {
      "application/vnd.jupyter.widget-view+json": {
       "model_id": "5b809d2408454c80bb4df52539beffb2",
       "version_major": 2,
       "version_minor": 0
      },
      "text/plain": [
       "tokenizer_config.json:   0%|          | 0.00/7.30k [00:00<?, ?B/s]"
      ]
     },
     "metadata": {},
     "output_type": "display_data"
    },
    {
     "data": {
      "application/vnd.jupyter.widget-view+json": {
       "model_id": "22cecf33699f43f3b6e2b66dc227bf9e",
       "version_major": 2,
       "version_minor": 0
      },
      "text/plain": [
       "vocab.json:   0%|          | 0.00/2.78M [00:00<?, ?B/s]"
      ]
     },
     "metadata": {},
     "output_type": "display_data"
    },
    {
     "data": {
      "application/vnd.jupyter.widget-view+json": {
       "model_id": "8ae82b9536074cf9978b471499da0ade",
       "version_major": 2,
       "version_minor": 0
      },
      "text/plain": [
       "merges.txt:   0%|          | 0.00/1.67M [00:00<?, ?B/s]"
      ]
     },
     "metadata": {},
     "output_type": "display_data"
    },
    {
     "data": {
      "application/vnd.jupyter.widget-view+json": {
       "model_id": "aa1d6fdfbf954d4f8691b8f1a4b09f4b",
       "version_major": 2,
       "version_minor": 0
      },
      "text/plain": [
       "tokenizer.json:   0%|          | 0.00/7.03M [00:00<?, ?B/s]"
      ]
     },
     "metadata": {},
     "output_type": "display_data"
    }
   ],
   "source": [
    "# benchmark model path\n",
    "model_name=\"Qwen/Qwen2.5-3B-Instruct\"\n",
    "\n",
    "# GPU Device num\n",
    "device = \"cpu\"\n",
    "\n",
    "\n",
    "flash_attn = False\n",
    "# use flash attn\n",
    "if flash_attn:\n",
    "    model = AutoModelForCausalLM.from_pretrained(model_name, trust_remote_code=True, attn_implementation=\"flash_attention_2\", torch_dtype=torch.bfloat16,).to(device)\n",
    "    tokenizer = AutoTokenizer.from_pretrained(model_name, trust_remote_code=True, device_map=device)\n",
    "    streamer = TextStreamer(tokenizer, skip_prompt=True)\n",
    "else:\n",
    "    model = AutoModelForCausalLM.from_pretrained(model_name, trust_remote_code=True).to(device)\n",
    "    tokenizer = AutoTokenizer.from_pretrained(model_name, trust_remote_code=True, device_map=device)\n",
    "    streamer = TextStreamer(tokenizer, skip_prompt=True)"
   ]
  },
  {
   "cell_type": "code",
   "execution_count": null,
   "metadata": {},
   "outputs": [],
   "source": [
    "def gen(x, chat_list, device, model_name):\n",
    "    generation_config = GenerationConfig(\n",
    "        temperature=0.8,\n",
    "        top_p=0.8,\n",
    "        top_k=100,\n",
    "        max_new_tokens=1024,\n",
    "        early_stopping=True,\n",
    "        do_sample=True,\n",
    "    )\n",
    "    chat_list.append({'role':'user', 'content':x})\n",
    "\n",
    "    q = tokenizer.apply_chat_template(chat_list, tokenize=True, return_tensors='pt', return_dict=True)\n",
    "    q = q.to(device)\n",
    "    \n",
    "    gened = model.generate(\n",
    "        **q,\n",
    "        generation_config=generation_config,\n",
    "        pad_token_id=tokenizer.pad_token_id,\n",
    "        eos_token_id=tokenizer.eos_token_id,\n",
    "        streamer=streamer,\n",
    "    )\n",
    "    result_str = tokenizer.decode(gened[0])\n",
    "\n",
    "\n",
    "    model_name = model_name.split(\"/\")[-1].lower() \n",
    "    if \"phi\" in model_name:\n",
    "        start_tag = f\"<|assistant|>\\n\"\n",
    "    elif \"gemma\" in model_name:\n",
    "        start_tag = \"<start_of_turn>model\\n\"\n",
    "    elif \"qwen\" in model_name:\n",
    "        start_tag = f\"<|im_start|>assistant\\n\"\n",
    "\n",
    "    start_index = result_str.rfind(start_tag)\n",
    "\n",
    "    if start_index != -1:\n",
    "        result_str = result_str[start_index + len(start_tag):].strip()\n",
    "    chat_list.append({'role':'assistant', 'content':result_str})\n",
    "    return chat_list"
   ]
  },
  {
   "cell_type": "code",
   "execution_count": null,
   "metadata": {},
   "outputs": [
    {
     "ename": "AssertionError",
     "evalue": "Torch not compiled with CUDA enabled",
     "output_type": "error",
     "traceback": [
      "\u001b[1;31m---------------------------------------------------------------------------\u001b[0m",
      "\u001b[1;31mAssertionError\u001b[0m                            Traceback (most recent call last)",
      "Cell \u001b[1;32mIn[4], line 2\u001b[0m\n\u001b[0;32m      1\u001b[0m chat_list \u001b[38;5;241m=\u001b[39m []\n\u001b[1;32m----> 2\u001b[0m chat_list \u001b[38;5;241m=\u001b[39m gen(\u001b[38;5;124m\"\u001b[39m\u001b[38;5;124m고대 그리스의 수학자 아르키메데스가 목욕을 하다가 발견한 원리로 유명한 법칙은 무엇인가요?\u001b[39m\u001b[38;5;124m\"\u001b[39m, chat_list, device\u001b[38;5;241m=\u001b[39m\u001b[38;5;124m\"\u001b[39m\u001b[38;5;124mcuda:0\u001b[39m\u001b[38;5;124m\"\u001b[39m, model_name\u001b[38;5;241m=\u001b[39mmodel_name)\n",
      "Cell \u001b[1;32mIn[3], line 13\u001b[0m, in \u001b[0;36mgen\u001b[1;34m(x, chat_list, device, model_name)\u001b[0m\n\u001b[0;32m     10\u001b[0m chat_list\u001b[38;5;241m.\u001b[39mappend({\u001b[38;5;124m'\u001b[39m\u001b[38;5;124mrole\u001b[39m\u001b[38;5;124m'\u001b[39m:\u001b[38;5;124m'\u001b[39m\u001b[38;5;124muser\u001b[39m\u001b[38;5;124m'\u001b[39m, \u001b[38;5;124m'\u001b[39m\u001b[38;5;124mcontent\u001b[39m\u001b[38;5;124m'\u001b[39m:x})\n\u001b[0;32m     12\u001b[0m q \u001b[38;5;241m=\u001b[39m tokenizer\u001b[38;5;241m.\u001b[39mapply_chat_template(chat_list, tokenize\u001b[38;5;241m=\u001b[39m\u001b[38;5;28;01mTrue\u001b[39;00m, return_tensors\u001b[38;5;241m=\u001b[39m\u001b[38;5;124m'\u001b[39m\u001b[38;5;124mpt\u001b[39m\u001b[38;5;124m'\u001b[39m, return_dict\u001b[38;5;241m=\u001b[39m\u001b[38;5;28;01mTrue\u001b[39;00m)\n\u001b[1;32m---> 13\u001b[0m q \u001b[38;5;241m=\u001b[39m q\u001b[38;5;241m.\u001b[39mto(device)\n\u001b[0;32m     15\u001b[0m gened \u001b[38;5;241m=\u001b[39m model\u001b[38;5;241m.\u001b[39mgenerate(\n\u001b[0;32m     16\u001b[0m     \u001b[38;5;241m*\u001b[39m\u001b[38;5;241m*\u001b[39mq,\n\u001b[0;32m     17\u001b[0m     generation_config\u001b[38;5;241m=\u001b[39mgeneration_config,\n\u001b[1;32m   (...)\u001b[0m\n\u001b[0;32m     20\u001b[0m     streamer\u001b[38;5;241m=\u001b[39mstreamer,\n\u001b[0;32m     21\u001b[0m )\n\u001b[0;32m     22\u001b[0m result_str \u001b[38;5;241m=\u001b[39m tokenizer\u001b[38;5;241m.\u001b[39mdecode(gened[\u001b[38;5;241m0\u001b[39m])\n",
      "File \u001b[1;32mc:\\Users\\Kim Seongeun\\AppData\\Local\\anaconda3\\envs\\test\\Lib\\site-packages\\transformers\\tokenization_utils_base.py:803\u001b[0m, in \u001b[0;36mBatchEncoding.to\u001b[1;34m(self, device)\u001b[0m\n\u001b[0;32m    799\u001b[0m \u001b[38;5;66;03m# This check catches things like APEX blindly calling \"to\" on all inputs to a module\u001b[39;00m\n\u001b[0;32m    800\u001b[0m \u001b[38;5;66;03m# Otherwise it passes the casts down and casts the LongTensor containing the token idxs\u001b[39;00m\n\u001b[0;32m    801\u001b[0m \u001b[38;5;66;03m# into a HalfTensor\u001b[39;00m\n\u001b[0;32m    802\u001b[0m \u001b[38;5;28;01mif\u001b[39;00m \u001b[38;5;28misinstance\u001b[39m(device, \u001b[38;5;28mstr\u001b[39m) \u001b[38;5;129;01mor\u001b[39;00m is_torch_device(device) \u001b[38;5;129;01mor\u001b[39;00m \u001b[38;5;28misinstance\u001b[39m(device, \u001b[38;5;28mint\u001b[39m):\n\u001b[1;32m--> 803\u001b[0m     \u001b[38;5;28mself\u001b[39m\u001b[38;5;241m.\u001b[39mdata \u001b[38;5;241m=\u001b[39m {k: v\u001b[38;5;241m.\u001b[39mto(device\u001b[38;5;241m=\u001b[39mdevice) \u001b[38;5;28;01mfor\u001b[39;00m k, v \u001b[38;5;129;01min\u001b[39;00m \u001b[38;5;28mself\u001b[39m\u001b[38;5;241m.\u001b[39mdata\u001b[38;5;241m.\u001b[39mitems() \u001b[38;5;28;01mif\u001b[39;00m v \u001b[38;5;129;01mis\u001b[39;00m \u001b[38;5;129;01mnot\u001b[39;00m \u001b[38;5;28;01mNone\u001b[39;00m}\n\u001b[0;32m    804\u001b[0m \u001b[38;5;28;01melse\u001b[39;00m:\n\u001b[0;32m    805\u001b[0m     logger\u001b[38;5;241m.\u001b[39mwarning(\u001b[38;5;124mf\u001b[39m\u001b[38;5;124m\"\u001b[39m\u001b[38;5;124mAttempting to cast a BatchEncoding to type \u001b[39m\u001b[38;5;132;01m{\u001b[39;00m\u001b[38;5;28mstr\u001b[39m(device)\u001b[38;5;132;01m}\u001b[39;00m\u001b[38;5;124m. This is not supported.\u001b[39m\u001b[38;5;124m\"\u001b[39m)\n",
      "File \u001b[1;32mc:\\Users\\Kim Seongeun\\AppData\\Local\\anaconda3\\envs\\test\\Lib\\site-packages\\torch\\cuda\\__init__.py:284\u001b[0m, in \u001b[0;36m_lazy_init\u001b[1;34m()\u001b[0m\n\u001b[0;32m    279\u001b[0m     \u001b[38;5;28;01mraise\u001b[39;00m \u001b[38;5;167;01mRuntimeError\u001b[39;00m(\n\u001b[0;32m    280\u001b[0m         \u001b[38;5;124m\"\u001b[39m\u001b[38;5;124mCannot re-initialize CUDA in forked subprocess. To use CUDA with \u001b[39m\u001b[38;5;124m\"\u001b[39m\n\u001b[0;32m    281\u001b[0m         \u001b[38;5;124m\"\u001b[39m\u001b[38;5;124mmultiprocessing, you must use the \u001b[39m\u001b[38;5;124m'\u001b[39m\u001b[38;5;124mspawn\u001b[39m\u001b[38;5;124m'\u001b[39m\u001b[38;5;124m start method\u001b[39m\u001b[38;5;124m\"\u001b[39m\n\u001b[0;32m    282\u001b[0m     )\n\u001b[0;32m    283\u001b[0m \u001b[38;5;28;01mif\u001b[39;00m \u001b[38;5;129;01mnot\u001b[39;00m \u001b[38;5;28mhasattr\u001b[39m(torch\u001b[38;5;241m.\u001b[39m_C, \u001b[38;5;124m\"\u001b[39m\u001b[38;5;124m_cuda_getDeviceCount\u001b[39m\u001b[38;5;124m\"\u001b[39m):\n\u001b[1;32m--> 284\u001b[0m     \u001b[38;5;28;01mraise\u001b[39;00m \u001b[38;5;167;01mAssertionError\u001b[39;00m(\u001b[38;5;124m\"\u001b[39m\u001b[38;5;124mTorch not compiled with CUDA enabled\u001b[39m\u001b[38;5;124m\"\u001b[39m)\n\u001b[0;32m    285\u001b[0m \u001b[38;5;28;01mif\u001b[39;00m _cudart \u001b[38;5;129;01mis\u001b[39;00m \u001b[38;5;28;01mNone\u001b[39;00m:\n\u001b[0;32m    286\u001b[0m     \u001b[38;5;28;01mraise\u001b[39;00m \u001b[38;5;167;01mAssertionError\u001b[39;00m(\n\u001b[0;32m    287\u001b[0m         \u001b[38;5;124m\"\u001b[39m\u001b[38;5;124mlibcudart functions unavailable. It looks like you have a broken build?\u001b[39m\u001b[38;5;124m\"\u001b[39m\n\u001b[0;32m    288\u001b[0m     )\n",
      "\u001b[1;31mAssertionError\u001b[0m: Torch not compiled with CUDA enabled"
     ]
    }
   ],
   "source": [
    "chat_list = []\n",
    "chat_list = gen(\"고대 그리스의 수학자 아르키메데스가 목욕을 하다가 발견한 원리로 유명한 법칙은 무엇인가요?\", chat_list, device=\"cuda:0\", model_name=model_name)"
   ]
  },
  {
   "cell_type": "code",
   "execution_count": null,
   "metadata": {},
   "outputs": [],
   "source": []
  }
 ],
 "metadata": {
  "kernelspec": {
   "display_name": "hjkim",
   "language": "python",
   "name": "python3"
  },
  "language_info": {
   "codemirror_mode": {
    "name": "ipython",
    "version": 3
   },
   "file_extension": ".py",
   "mimetype": "text/x-python",
   "name": "python",
   "nbconvert_exporter": "python",
   "pygments_lexer": "ipython3",
   "version": "3.10.14"
  }
 },
 "nbformat": 4,
 "nbformat_minor": 2
}
